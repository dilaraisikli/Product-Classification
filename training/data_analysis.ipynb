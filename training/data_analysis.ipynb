{
 "cells": [
  {
   "cell_type": "code",
   "execution_count": 2,
   "metadata": {
    "collapsed": false,
    "pycharm": {
     "name": "#%%\n"
    }
   },
   "outputs": [
    {
     "name": "stderr",
     "output_type": "stream",
     "text": [
      "/home/ubuntu/anaconda3/envs/product_cl/lib/python3.9/site-packages/tqdm/auto.py:21: TqdmWarning: IProgress not found. Please update jupyter and ipywidgets. See https://ipywidgets.readthedocs.io/en/stable/user_install.html\n",
      "  from .autonotebook import tqdm as notebook_tqdm\n"
     ]
    }
   ],
   "source": [
    "import pandas as pd\n",
    "import matplotlib.pyplot as plt\n",
    "from langdetect import detect\n",
    "import pandas as pd\n",
    "import torch\n",
    "import re\n",
    "from transformers import BertTokenizer\n",
    "from nltk.corpus import stopwords\n",
    "from nltk.stem import WordNetLemmatizer\n",
    "from spacy.lang.de import German\n",
    "from spacy.lang.en import English\n",
    "from spacy.lang.it import Italian\n",
    "from spacy.lang.fr import French\n",
    "from spacy.lang.sv import Swedish\n",
    "from spacy.lang.da import Danish\n",
    "from spacy.lang.ro import Romanian"
   ]
  },
  {
   "cell_type": "markdown",
   "metadata": {},
   "source": [
    "## Download Data"
   ]
  },
  {
   "cell_type": "code",
   "execution_count": 3,
   "metadata": {},
   "outputs": [],
   "source": [
    "df = pd.read_csv('/home/ubuntu/product_classifier/di-interview-product-classifier/products/product_dataset.csv')"
   ]
  },
  {
   "cell_type": "markdown",
   "metadata": {},
   "source": [
    "## Understanding the Columns"
   ]
  },
  {
   "cell_type": "code",
   "execution_count": 4,
   "metadata": {},
   "outputs": [
    {
     "name": "stdout",
     "output_type": "stream",
     "text": [
      "<class 'pandas.core.frame.DataFrame'>\n",
      "RangeIndex: 37567 entries, 0 to 37566\n",
      "Data columns (total 4 columns):\n",
      " #   Column       Non-Null Count  Dtype \n",
      "---  ------       --------------  ----- \n",
      " 0   articleId    37567 non-null  int64 \n",
      " 1   title        37565 non-null  object\n",
      " 2   subtitle     16342 non-null  object\n",
      " 3   productType  37567 non-null  object\n",
      "dtypes: int64(1), object(3)\n",
      "memory usage: 1.1+ MB\n"
     ]
    }
   ],
   "source": [
    "df.info()"
   ]
  },
  {
   "cell_type": "code",
   "execution_count": 5,
   "metadata": {},
   "outputs": [
    {
     "data": {
      "text/plain": [
       "articleId          0\n",
       "title              2\n",
       "subtitle       21225\n",
       "productType        0\n",
       "dtype: int64"
      ]
     },
     "execution_count": 5,
     "metadata": {},
     "output_type": "execute_result"
    }
   ],
   "source": [
    "df.isnull().sum()"
   ]
  },
  {
   "cell_type": "code",
   "execution_count": 6,
   "metadata": {},
   "outputs": [],
   "source": [
    "df.dropna(subset='title',inplace=True)"
   ]
  },
  {
   "cell_type": "code",
   "execution_count": 7,
   "metadata": {},
   "outputs": [
    {
     "data": {
      "text/plain": [
       "articleId      37030\n",
       "title          33624\n",
       "subtitle       13229\n",
       "productType      383\n",
       "dtype: int64"
      ]
     },
     "execution_count": 7,
     "metadata": {},
     "output_type": "execute_result"
    }
   ],
   "source": [
    "df.nunique()"
   ]
  },
  {
   "cell_type": "markdown",
   "metadata": {},
   "source": [
    "Control duplication on entrie dataset"
   ]
  },
  {
   "cell_type": "code",
   "execution_count": 8,
   "metadata": {},
   "outputs": [
    {
     "data": {
      "text/plain": [
       "494"
      ]
     },
     "execution_count": 8,
     "metadata": {},
     "output_type": "execute_result"
    }
   ],
   "source": [
    "df.duplicated().sum()"
   ]
  },
  {
   "cell_type": "code",
   "execution_count": 9,
   "metadata": {},
   "outputs": [],
   "source": [
    "df.drop_duplicates(inplace=True)"
   ]
  },
  {
   "cell_type": "markdown",
   "metadata": {},
   "source": [
    "Control ArticleId Column"
   ]
  },
  {
   "cell_type": "code",
   "execution_count": 10,
   "metadata": {},
   "outputs": [
    {
     "data": {
      "text/plain": [
       "False"
      ]
     },
     "execution_count": 10,
     "metadata": {},
     "output_type": "execute_result"
    }
   ],
   "source": [
    "df['articleId'].nunique() == len(df)"
   ]
  },
  {
   "cell_type": "code",
   "execution_count": 11,
   "metadata": {},
   "outputs": [
    {
     "data": {
      "text/plain": [
       "41"
      ]
     },
     "execution_count": 11,
     "metadata": {},
     "output_type": "execute_result"
    }
   ],
   "source": [
    "df['articleId'].duplicated().sum()"
   ]
  },
  {
   "cell_type": "code",
   "execution_count": 12,
   "metadata": {},
   "outputs": [
    {
     "data": {
      "text/html": [
       "<div>\n",
       "<style scoped>\n",
       "    .dataframe tbody tr th:only-of-type {\n",
       "        vertical-align: middle;\n",
       "    }\n",
       "\n",
       "    .dataframe tbody tr th {\n",
       "        vertical-align: top;\n",
       "    }\n",
       "\n",
       "    .dataframe thead th {\n",
       "        text-align: right;\n",
       "    }\n",
       "</style>\n",
       "<table border=\"1\" class=\"dataframe\">\n",
       "  <thead>\n",
       "    <tr style=\"text-align: right;\">\n",
       "      <th></th>\n",
       "      <th>articleId</th>\n",
       "      <th>title</th>\n",
       "      <th>subtitle</th>\n",
       "      <th>productType</th>\n",
       "    </tr>\n",
       "  </thead>\n",
       "  <tbody>\n",
       "    <tr>\n",
       "      <th>3779</th>\n",
       "      <td>6334003494183500636</td>\n",
       "      <td>Grosse Medaglia Pio XII 1956 Silber Rar</td>\n",
       "      <td>Grosse  44,00 mm 35,6 gr Mit Orig Etui.Rarissima.</td>\n",
       "      <td>medal</td>\n",
       "    </tr>\n",
       "    <tr>\n",
       "      <th>3788</th>\n",
       "      <td>6334003494183500636</td>\n",
       "      <td>GROSSE MEDAGLIA PIO XII 1956 RARISSIMA</td>\n",
       "      <td>Grosse  44,00 mm 35,6 gr Mit Orig Etui.Rarissi...</td>\n",
       "      <td>medal</td>\n",
       "    </tr>\n",
       "  </tbody>\n",
       "</table>\n",
       "</div>"
      ],
      "text/plain": [
       "                articleId                                    title  \\\n",
       "3779  6334003494183500636  Grosse Medaglia Pio XII 1956 Silber Rar   \n",
       "3788  6334003494183500636   GROSSE MEDAGLIA PIO XII 1956 RARISSIMA   \n",
       "\n",
       "                                               subtitle productType  \n",
       "3779  Grosse  44,00 mm 35,6 gr Mit Orig Etui.Rarissima.       medal  \n",
       "3788  Grosse  44,00 mm 35,6 gr Mit Orig Etui.Rarissi...       medal  "
      ]
     },
     "execution_count": 12,
     "metadata": {},
     "output_type": "execute_result"
    }
   ],
   "source": [
    "df[df['articleId']==6334003494183500636]"
   ]
  },
  {
   "cell_type": "code",
   "execution_count": 13,
   "metadata": {},
   "outputs": [
    {
     "data": {
      "text/html": [
       "<div>\n",
       "<style scoped>\n",
       "    .dataframe tbody tr th:only-of-type {\n",
       "        vertical-align: middle;\n",
       "    }\n",
       "\n",
       "    .dataframe tbody tr th {\n",
       "        vertical-align: top;\n",
       "    }\n",
       "\n",
       "    .dataframe thead th {\n",
       "        text-align: right;\n",
       "    }\n",
       "</style>\n",
       "<table border=\"1\" class=\"dataframe\">\n",
       "  <thead>\n",
       "    <tr style=\"text-align: right;\">\n",
       "      <th></th>\n",
       "      <th>articleId</th>\n",
       "      <th>title</th>\n",
       "      <th>subtitle</th>\n",
       "      <th>productType</th>\n",
       "    </tr>\n",
       "  </thead>\n",
       "  <tbody>\n",
       "    <tr>\n",
       "      <th>4413</th>\n",
       "      <td>-5986812504116783975</td>\n",
       "      <td>Stahl und Natural Holz Treppe 2.66 Lang</td>\n",
       "      <td>Blau 266cm (H) x 15cm (B) x 62cm (L)</td>\n",
       "      <td>stair</td>\n",
       "    </tr>\n",
       "    <tr>\n",
       "      <th>4429</th>\n",
       "      <td>-5986812504116783975</td>\n",
       "      <td>Stahl und Natural Holz Treppe 2.66 Lang</td>\n",
       "      <td>Blau</td>\n",
       "      <td>stair</td>\n",
       "    </tr>\n",
       "  </tbody>\n",
       "</table>\n",
       "</div>"
      ],
      "text/plain": [
       "                articleId                                    title  \\\n",
       "4413 -5986812504116783975  Stahl und Natural Holz Treppe 2.66 Lang   \n",
       "4429 -5986812504116783975  Stahl und Natural Holz Treppe 2.66 Lang   \n",
       "\n",
       "                                  subtitle productType  \n",
       "4413  Blau 266cm (H) x 15cm (B) x 62cm (L)       stair  \n",
       "4429                                  Blau       stair  "
      ]
     },
     "execution_count": 13,
     "metadata": {},
     "output_type": "execute_result"
    }
   ],
   "source": [
    "df[df['articleId']==-5986812504116783975]"
   ]
  },
  {
   "cell_type": "code",
   "execution_count": 14,
   "metadata": {},
   "outputs": [
    {
     "data": {
      "text/html": [
       "<div>\n",
       "<style scoped>\n",
       "    .dataframe tbody tr th:only-of-type {\n",
       "        vertical-align: middle;\n",
       "    }\n",
       "\n",
       "    .dataframe tbody tr th {\n",
       "        vertical-align: top;\n",
       "    }\n",
       "\n",
       "    .dataframe thead th {\n",
       "        text-align: right;\n",
       "    }\n",
       "</style>\n",
       "<table border=\"1\" class=\"dataframe\">\n",
       "  <thead>\n",
       "    <tr style=\"text-align: right;\">\n",
       "      <th></th>\n",
       "      <th>articleId</th>\n",
       "      <th>title</th>\n",
       "      <th>subtitle</th>\n",
       "      <th>productType</th>\n",
       "    </tr>\n",
       "  </thead>\n",
       "  <tbody>\n",
       "    <tr>\n",
       "      <th>6263</th>\n",
       "      <td>-6639604779649769154</td>\n",
       "      <td>XL- Europaletten Lounge Kissen</td>\n",
       "      <td>2 Sitzkissen Europaletten</td>\n",
       "      <td>pillow</td>\n",
       "    </tr>\n",
       "    <tr>\n",
       "      <th>6281</th>\n",
       "      <td>-6639604779649769154</td>\n",
       "      <td>XL- Europaletten Lounge Kissen</td>\n",
       "      <td>1 Sitzkissen für  Europaletten</td>\n",
       "      <td>pillow</td>\n",
       "    </tr>\n",
       "  </tbody>\n",
       "</table>\n",
       "</div>"
      ],
      "text/plain": [
       "                articleId                           title  \\\n",
       "6263 -6639604779649769154  XL- Europaletten Lounge Kissen   \n",
       "6281 -6639604779649769154  XL- Europaletten Lounge Kissen   \n",
       "\n",
       "                            subtitle productType  \n",
       "6263       2 Sitzkissen Europaletten      pillow  \n",
       "6281  1 Sitzkissen für  Europaletten      pillow  "
      ]
     },
     "execution_count": 14,
     "metadata": {},
     "output_type": "execute_result"
    }
   ],
   "source": [
    "df[df['articleId']==-6639604779649769154]"
   ]
  },
  {
   "cell_type": "markdown",
   "metadata": {},
   "source": [
    "Keep Only One Instance Per articleId"
   ]
  },
  {
   "cell_type": "code",
   "execution_count": 15,
   "metadata": {},
   "outputs": [],
   "source": [
    "df.drop_duplicates(subset=['articleId'],inplace=True)"
   ]
  },
  {
   "cell_type": "markdown",
   "metadata": {},
   "source": [
    "Control Title Column"
   ]
  },
  {
   "cell_type": "code",
   "execution_count": 16,
   "metadata": {},
   "outputs": [
    {
     "data": {
      "text/plain": [
       "False"
      ]
     },
     "execution_count": 16,
     "metadata": {},
     "output_type": "execute_result"
    }
   ],
   "source": [
    "df['title'].nunique() == len(df)"
   ]
  },
  {
   "cell_type": "code",
   "execution_count": 17,
   "metadata": {},
   "outputs": [
    {
     "data": {
      "text/plain": [
       "3415"
      ]
     },
     "execution_count": 17,
     "metadata": {},
     "output_type": "execute_result"
    }
   ],
   "source": [
    "df['title'].duplicated().sum()"
   ]
  },
  {
   "cell_type": "markdown",
   "metadata": {},
   "source": [
    "Removes entries where title, subtitle, and productType are the same (true duplicates)."
   ]
  },
  {
   "cell_type": "code",
   "execution_count": 18,
   "metadata": {},
   "outputs": [],
   "source": [
    "df = df.sort_values(by=['subtitle']).drop_duplicates(subset=['title', 'productType', 'subtitle'], keep='first')"
   ]
  },
  {
   "cell_type": "code",
   "execution_count": 19,
   "metadata": {},
   "outputs": [
    {
     "data": {
      "text/html": [
       "<div>\n",
       "<style scoped>\n",
       "    .dataframe tbody tr th:only-of-type {\n",
       "        vertical-align: middle;\n",
       "    }\n",
       "\n",
       "    .dataframe tbody tr th {\n",
       "        vertical-align: top;\n",
       "    }\n",
       "\n",
       "    .dataframe thead th {\n",
       "        text-align: right;\n",
       "    }\n",
       "</style>\n",
       "<table border=\"1\" class=\"dataframe\">\n",
       "  <thead>\n",
       "    <tr style=\"text-align: right;\">\n",
       "      <th></th>\n",
       "      <th>articleId</th>\n",
       "      <th>title</th>\n",
       "      <th>subtitle</th>\n",
       "      <th>productType</th>\n",
       "    </tr>\n",
       "  </thead>\n",
       "  <tbody>\n",
       "    <tr>\n",
       "      <th>28125</th>\n",
       "      <td>7486814705443713282</td>\n",
       "      <td>1 paar schöne Manschettenknöpfe</td>\n",
       "      <td>NaN</td>\n",
       "      <td>cufflink</td>\n",
       "    </tr>\n",
       "    <tr>\n",
       "      <th>9211</th>\n",
       "      <td>4165213969732687944</td>\n",
       "      <td>1 paar schöne Manschettenknöpfe</td>\n",
       "      <td>1 paar schöne Manschettenknöpfe</td>\n",
       "      <td>cufflink</td>\n",
       "    </tr>\n",
       "    <tr>\n",
       "      <th>15264</th>\n",
       "      <td>8538990646927500322</td>\n",
       "      <td>10'000 Coop Superpunkte</td>\n",
       "      <td>Fehlen Ihnen noch Punkte, dann ist das die Gel...</td>\n",
       "      <td>collecting_point</td>\n",
       "    </tr>\n",
       "    <tr>\n",
       "      <th>36397</th>\n",
       "      <td>-6486257591579225981</td>\n",
       "      <td>10'000 Coop Superpunkte</td>\n",
       "      <td>NaN</td>\n",
       "      <td>collecting_point</td>\n",
       "    </tr>\n",
       "    <tr>\n",
       "      <th>8956</th>\n",
       "      <td>8725869343510775527</td>\n",
       "      <td>10x Winterthur Haldengut Bierdeckel 1965</td>\n",
       "      <td>DRUCKFRISCH ungebraucht aus Rolle geöffnete Ex...</td>\n",
       "      <td>beer_mat</td>\n",
       "    </tr>\n",
       "    <tr>\n",
       "      <th>27788</th>\n",
       "      <td>213990871362756191</td>\n",
       "      <td>10x Winterthur Haldengut Bierdeckel 1965</td>\n",
       "      <td>NaN</td>\n",
       "      <td>beer_mat</td>\n",
       "    </tr>\n",
       "    <tr>\n",
       "      <th>32164</th>\n",
       "      <td>-8129285561060869889</td>\n",
       "      <td>15 farbiges ABS Filament Set für 3D</td>\n",
       "      <td>NaN</td>\n",
       "      <td>printer_3d</td>\n",
       "    </tr>\n",
       "    <tr>\n",
       "      <th>12185</th>\n",
       "      <td>9136239410958159104</td>\n",
       "      <td>15 farbiges ABS Filament Set für 3D</td>\n",
       "      <td>Filament  | Jetzt kaufen, später zahlen</td>\n",
       "      <td>printer_3d</td>\n",
       "    </tr>\n",
       "    <tr>\n",
       "      <th>8436</th>\n",
       "      <td>-5026906123844843979</td>\n",
       "      <td>2 Stk. Zigarettenstopfmaschine</td>\n",
       "      <td>2 x Original Powermatic2 elektrische Zigarette...</td>\n",
       "      <td>tobacco</td>\n",
       "    </tr>\n",
       "    <tr>\n",
       "      <th>27222</th>\n",
       "      <td>-5885997678850301197</td>\n",
       "      <td>2 Stk. Zigarettenstopfmaschine</td>\n",
       "      <td>NaN</td>\n",
       "      <td>tobacco</td>\n",
       "    </tr>\n",
       "    <tr>\n",
       "      <th>2490</th>\n",
       "      <td>-6391793437725302536</td>\n",
       "      <td>2-teiliger Schwarzer Herren-Abendanzug G</td>\n",
       "      <td>2-teiliger Schwarzer Herren-Abendanzug Größe 48</td>\n",
       "      <td>suit</td>\n",
       "    </tr>\n",
       "    <tr>\n",
       "      <th>2498</th>\n",
       "      <td>5955938307634049456</td>\n",
       "      <td>2-teiliger Schwarzer Herren-Abendanzug G</td>\n",
       "      <td>Faire Versandkosten, Fair Trade :-)</td>\n",
       "      <td>suit</td>\n",
       "    </tr>\n",
       "    <tr>\n",
       "      <th>6075</th>\n",
       "      <td>-4511282730037464500</td>\n",
       "      <td>2er Anthrazit Spannbettlaken Matratze</td>\n",
       "      <td>vidaXL 2x Spannbetttuch (140-160)x200 cm 100% ...</td>\n",
       "      <td>linens</td>\n",
       "    </tr>\n",
       "    <tr>\n",
       "      <th>6081</th>\n",
       "      <td>6689476834538761999</td>\n",
       "      <td>2er Anthrazit Spannbettlaken Matratze</td>\n",
       "      <td>vidaXL 2x Spannbettlaken 100% Baumwolle 120x20...</td>\n",
       "      <td>linens</td>\n",
       "    </tr>\n",
       "    <tr>\n",
       "      <th>20236</th>\n",
       "      <td>-7509614437787590771</td>\n",
       "      <td>2er Sofa</td>\n",
       "      <td>NaN</td>\n",
       "      <td>couch</td>\n",
       "    </tr>\n",
       "  </tbody>\n",
       "</table>\n",
       "</div>"
      ],
      "text/plain": [
       "                 articleId                                     title  \\\n",
       "28125  7486814705443713282           1 paar schöne Manschettenknöpfe   \n",
       "9211   4165213969732687944           1 paar schöne Manschettenknöpfe   \n",
       "15264  8538990646927500322                   10'000 Coop Superpunkte   \n",
       "36397 -6486257591579225981                   10'000 Coop Superpunkte   \n",
       "8956   8725869343510775527  10x Winterthur Haldengut Bierdeckel 1965   \n",
       "27788   213990871362756191  10x Winterthur Haldengut Bierdeckel 1965   \n",
       "32164 -8129285561060869889       15 farbiges ABS Filament Set für 3D   \n",
       "12185  9136239410958159104       15 farbiges ABS Filament Set für 3D   \n",
       "8436  -5026906123844843979            2 Stk. Zigarettenstopfmaschine   \n",
       "27222 -5885997678850301197            2 Stk. Zigarettenstopfmaschine   \n",
       "2490  -6391793437725302536  2-teiliger Schwarzer Herren-Abendanzug G   \n",
       "2498   5955938307634049456  2-teiliger Schwarzer Herren-Abendanzug G   \n",
       "6075  -4511282730037464500     2er Anthrazit Spannbettlaken Matratze   \n",
       "6081   6689476834538761999     2er Anthrazit Spannbettlaken Matratze   \n",
       "20236 -7509614437787590771                                  2er Sofa   \n",
       "\n",
       "                                                subtitle       productType  \n",
       "28125                                                NaN          cufflink  \n",
       "9211                     1 paar schöne Manschettenknöpfe          cufflink  \n",
       "15264  Fehlen Ihnen noch Punkte, dann ist das die Gel...  collecting_point  \n",
       "36397                                                NaN  collecting_point  \n",
       "8956   DRUCKFRISCH ungebraucht aus Rolle geöffnete Ex...          beer_mat  \n",
       "27788                                                NaN          beer_mat  \n",
       "32164                                                NaN        printer_3d  \n",
       "12185            Filament  | Jetzt kaufen, später zahlen        printer_3d  \n",
       "8436   2 x Original Powermatic2 elektrische Zigarette...           tobacco  \n",
       "27222                                                NaN           tobacco  \n",
       "2490     2-teiliger Schwarzer Herren-Abendanzug Größe 48              suit  \n",
       "2498                 Faire Versandkosten, Fair Trade :-)              suit  \n",
       "6075   vidaXL 2x Spannbetttuch (140-160)x200 cm 100% ...            linens  \n",
       "6081   vidaXL 2x Spannbettlaken 100% Baumwolle 120x20...            linens  \n",
       "20236                                                NaN             couch  "
      ]
     },
     "execution_count": 19,
     "metadata": {},
     "output_type": "execute_result"
    }
   ],
   "source": [
    "df[df.duplicated(subset={'title','productType'}, keep=False)].sort_values(by='title').head(15)"
   ]
  },
  {
   "cell_type": "markdown",
   "metadata": {},
   "source": [
    "remove rows where subtitle is NaN if there is another row with the same title and productType but a valid subtitle."
   ]
  },
  {
   "cell_type": "code",
   "execution_count": 20,
   "metadata": {},
   "outputs": [],
   "source": [
    "df_duplicated_title = df[df.duplicated(subset=['title'], keep=False)].sort_values('title')"
   ]
  },
  {
   "cell_type": "markdown",
   "metadata": {},
   "source": [
    "Control the same title appears under different productTypes \n"
   ]
  },
  {
   "cell_type": "code",
   "execution_count": 21,
   "metadata": {},
   "outputs": [],
   "source": [
    "multi_label_titles = df.groupby('title')['productType'].nunique()\n",
    "multi_label_titles = multi_label_titles[multi_label_titles > 1].index  # Get only titles with multiple labels\n",
    "\n",
    "# Filter dataset to show these cases\n",
    "df_conflicting_titles = df[df['title'].isin(multi_label_titles)].sort_values(by='title')"
   ]
  },
  {
   "cell_type": "code",
   "execution_count": 22,
   "metadata": {},
   "outputs": [
    {
     "data": {
      "text/html": [
       "<div>\n",
       "<style scoped>\n",
       "    .dataframe tbody tr th:only-of-type {\n",
       "        vertical-align: middle;\n",
       "    }\n",
       "\n",
       "    .dataframe tbody tr th {\n",
       "        vertical-align: top;\n",
       "    }\n",
       "\n",
       "    .dataframe thead th {\n",
       "        text-align: right;\n",
       "    }\n",
       "</style>\n",
       "<table border=\"1\" class=\"dataframe\">\n",
       "  <thead>\n",
       "    <tr style=\"text-align: right;\">\n",
       "      <th></th>\n",
       "      <th>articleId</th>\n",
       "      <th>title</th>\n",
       "      <th>subtitle</th>\n",
       "      <th>productType</th>\n",
       "    </tr>\n",
       "  </thead>\n",
       "  <tbody>\n",
       "    <tr>\n",
       "      <th>31427</th>\n",
       "      <td>8208708282943615560</td>\n",
       "      <td>Achse</td>\n",
       "      <td>NaN</td>\n",
       "      <td>dump_truck</td>\n",
       "    </tr>\n",
       "    <tr>\n",
       "      <th>3287</th>\n",
       "      <td>7692525491438734440</td>\n",
       "      <td>Achse</td>\n",
       "      <td>Achse Anhänger</td>\n",
       "      <td>crane</td>\n",
       "    </tr>\n",
       "    <tr>\n",
       "      <th>13080</th>\n",
       "      <td>1320747686402311177</td>\n",
       "      <td>Angelrolle</td>\n",
       "      <td>Alte Angelspule</td>\n",
       "      <td>fishing_rod</td>\n",
       "    </tr>\n",
       "    <tr>\n",
       "      <th>2353</th>\n",
       "      <td>-9048365656718365326</td>\n",
       "      <td>Angelrolle</td>\n",
       "      <td>Okuma Rolle</td>\n",
       "      <td>sign</td>\n",
       "    </tr>\n",
       "    <tr>\n",
       "      <th>27297</th>\n",
       "      <td>1618044994818813494</td>\n",
       "      <td>Anhänger</td>\n",
       "      <td>NaN</td>\n",
       "      <td>trailer</td>\n",
       "    </tr>\n",
       "    <tr>\n",
       "      <th>...</th>\n",
       "      <td>...</td>\n",
       "      <td>...</td>\n",
       "      <td>...</td>\n",
       "      <td>...</td>\n",
       "    </tr>\n",
       "    <tr>\n",
       "      <th>10767</th>\n",
       "      <td>3446011647889259944</td>\n",
       "      <td>Vase</td>\n",
       "      <td>Mega süsse Vase</td>\n",
       "      <td>flowerpot</td>\n",
       "    </tr>\n",
       "    <tr>\n",
       "      <th>21643</th>\n",
       "      <td>-8159625483659329634</td>\n",
       "      <td>moschino</td>\n",
       "      <td>NaN</td>\n",
       "      <td>scarf</td>\n",
       "    </tr>\n",
       "    <tr>\n",
       "      <th>10209</th>\n",
       "      <td>-4735852108296877572</td>\n",
       "      <td>moschino</td>\n",
       "      <td>new</td>\n",
       "      <td>umbrella</td>\n",
       "    </tr>\n",
       "    <tr>\n",
       "      <th>1923</th>\n",
       "      <td>2284643521356723711</td>\n",
       "      <td>vidaXL Pedal Go-Kart Rot</td>\n",
       "      <td>vidaXL Pedal Go-Kart Rot</td>\n",
       "      <td>kart</td>\n",
       "    </tr>\n",
       "    <tr>\n",
       "      <th>14053</th>\n",
       "      <td>-6951154209812859076</td>\n",
       "      <td>vidaXL Pedal Go-Kart Rot</td>\n",
       "      <td>vidaXL Pedal Go-Kart Rot</td>\n",
       "      <td>kid_vehicule</td>\n",
       "    </tr>\n",
       "  </tbody>\n",
       "</table>\n",
       "<p>127 rows × 4 columns</p>\n",
       "</div>"
      ],
      "text/plain": [
       "                 articleId                     title  \\\n",
       "31427  8208708282943615560                     Achse   \n",
       "3287   7692525491438734440                     Achse   \n",
       "13080  1320747686402311177                Angelrolle   \n",
       "2353  -9048365656718365326                Angelrolle   \n",
       "27297  1618044994818813494                  Anhänger   \n",
       "...                    ...                       ...   \n",
       "10767  3446011647889259944                      Vase   \n",
       "21643 -8159625483659329634                  moschino   \n",
       "10209 -4735852108296877572                  moschino   \n",
       "1923   2284643521356723711  vidaXL Pedal Go-Kart Rot   \n",
       "14053 -6951154209812859076  vidaXL Pedal Go-Kart Rot   \n",
       "\n",
       "                       subtitle   productType  \n",
       "31427                       NaN    dump_truck  \n",
       "3287             Achse Anhänger         crane  \n",
       "13080           Alte Angelspule   fishing_rod  \n",
       "2353                Okuma Rolle          sign  \n",
       "27297                       NaN       trailer  \n",
       "...                         ...           ...  \n",
       "10767           Mega süsse Vase     flowerpot  \n",
       "21643                       NaN         scarf  \n",
       "10209                       new      umbrella  \n",
       "1923   vidaXL Pedal Go-Kart Rot          kart  \n",
       "14053  vidaXL Pedal Go-Kart Rot  kid_vehicule  \n",
       "\n",
       "[127 rows x 4 columns]"
      ]
     },
     "execution_count": 22,
     "metadata": {},
     "output_type": "execute_result"
    }
   ],
   "source": [
    "df_conflicting_titles"
   ]
  },
  {
   "cell_type": "markdown",
   "metadata": {},
   "source": [
    "Control Susbtitle Column"
   ]
  },
  {
   "cell_type": "code",
   "execution_count": 23,
   "metadata": {},
   "outputs": [
    {
     "data": {
      "text/plain": [
       "False"
      ]
     },
     "execution_count": 23,
     "metadata": {},
     "output_type": "execute_result"
    }
   ],
   "source": [
    "df['subtitle'].nunique() == len(df)"
   ]
  },
  {
   "cell_type": "code",
   "execution_count": 24,
   "metadata": {},
   "outputs": [
    {
     "data": {
      "text/plain": [
       "21512"
      ]
     },
     "execution_count": 24,
     "metadata": {},
     "output_type": "execute_result"
    }
   ],
   "source": [
    "df['subtitle'].duplicated().sum()"
   ]
  },
  {
   "cell_type": "code",
   "execution_count": 25,
   "metadata": {},
   "outputs": [
    {
     "data": {
      "text/plain": [
       "19837"
      ]
     },
     "execution_count": 25,
     "metadata": {},
     "output_type": "execute_result"
    }
   ],
   "source": [
    "df['subtitle'].isnull().sum()"
   ]
  },
  {
   "cell_type": "markdown",
   "metadata": {},
   "source": [
    "# Analysis of Text Length Distribution"
   ]
  },
  {
   "cell_type": "markdown",
   "metadata": {},
   "source": [
    "Compute the length of titles and subtitles and create histograms"
   ]
  },
  {
   "cell_type": "code",
   "execution_count": 26,
   "metadata": {},
   "outputs": [
    {
     "data": {
      "image/png": "[encoded data removed]",
      "text/plain": [
       "<Figure size 1200x500 with 2 Axes>"
      ]
     },
     "metadata": {},
     "output_type": "display_data"
    }
   ],
   "source": [
    "\n",
    "# Compute the length of titles and subtitles\n",
    "df['title_length'] = df['title'].astype(str).apply(len)\n",
    "df['subtitle_length'] = df['subtitle'].astype(str).apply(len)\n",
    "\n",
    "# Create histograms for title and subtitle lengths\n",
    "fig, ax = plt.subplots(1, 2, figsize=(12, 5))\n",
    "\n",
    "\n",
    "ax[0].hist(df['title_length'], bins=50, edgecolor='black', alpha=0.7)\n",
    "ax[0].set_title('Title Length Distribution')\n",
    "ax[0].set_xlabel('Number of Characters')\n",
    "ax[0].set_ylabel('Frequency')\n",
    "ax[1].hist(df['subtitle_length'], bins=50, edgecolor='black', alpha=0.7, color='orange')\n",
    "ax[1].set_title('Subtitle Length Distribution')\n",
    "ax[1].set_xlabel('Number of Characters')\n",
    "ax[1].set_ylabel('Frequency')\n",
    "\n",
    "plt.tight_layout()\n",
    "plt.show()\n"
   ]
  },
  {
   "cell_type": "markdown",
   "metadata": {},
   "source": [
    "## Analysis of Product Type Frequency Distribution"
   ]
  },
  {
   "cell_type": "markdown",
   "metadata": {},
   "source": [
    "Count the occurrences of each productType and Plot histogram of product type frequencies"
   ]
  },
  {
   "cell_type": "code",
   "execution_count": 27,
   "metadata": {},
   "outputs": [
    {
     "data": {
      "image/png": "[encoded data removed]",
      "text/plain": [
       "<Figure size 1700x600 with 1 Axes>"
      ]
     },
     "metadata": {},
     "output_type": "display_data"
    }
   ],
   "source": [
    "# Count the occurrences of each productType\n",
    "product_type_counts = df['productType'].value_counts()\n",
    "\n",
    "# Plot histogram of product type frequencies\n",
    "plt.figure(figsize=(17, 6))\n",
    "plt.hist(product_type_counts, bins=30, color=\"darkblue\", edgecolor='black', alpha=0.7)\n",
    "plt.title('Distribution of Product Type Frequencies', fontsize=14)\n",
    "plt.xlabel('Number of Occurrences (Frequency)', fontsize=12)\n",
    "plt.ylabel('Count of Product Types', fontsize=12)\n",
    "plt.grid(axis='y', linestyle='--', alpha=0.7)\n",
    "plt.show()\n"
   ]
  },
  {
   "cell_type": "markdown",
   "metadata": {},
   "source": [
    "Detect the Language of Title, Subtitle, and ProductType"
   ]
  },
  {
   "cell_type": "code",
   "execution_count": 28,
   "metadata": {},
   "outputs": [],
   "source": [
    "def detect_language(text):\n",
    "    try:\n",
    "        return detect(text) if isinstance(text, str) and text.strip() != \"\" else \"unknown\"\n",
    "    except:\n",
    "        return \"unknown\"  # Handle detection errors"
   ]
  },
  {
   "cell_type": "code",
   "execution_count": 29,
   "metadata": {},
   "outputs": [],
   "source": [
    "# Detect language for each column\n",
    "df['title_language'] = df['title'].apply(detect_language)\n",
    "df['subtitle_language'] = df['subtitle'].apply(detect_language)\n",
    "df['productType_language'] = df['productType'].apply(detect_language)"
   ]
  },
  {
   "cell_type": "code",
   "execution_count": 42,
   "metadata": {},
   "outputs": [],
   "source": [
    "df.loc[df['productType_language'] == 'ro', 'productType_language'] = 'en'"
   ]
  },
  {
   "cell_type": "code",
   "execution_count": 46,
   "metadata": {},
   "outputs": [],
   "source": [
    "# Count occurrences of each detected language\n",
    "title_lang_counts = df['title_language'].value_counts()\n",
    "subtitle_lang_counts = df['subtitle_language'].value_counts()\n",
    "productType_lang_counts = df['productType_language'].value_counts()\n"
   ]
  },
  {
   "cell_type": "markdown",
   "metadata": {},
   "source": [
    "Select the top 5 languages for each feature to plot a pie chart"
   ]
  },
  {
   "cell_type": "code",
   "execution_count": 47,
   "metadata": {},
   "outputs": [],
   "source": [
    "top_n = 5\n",
    "top_title_langs = title_lang_counts.head(top_n)\n",
    "top_subtitle_langs = subtitle_lang_counts.head(top_n)\n",
    "top_productType_langs = productType_lang_counts.head(top_n)\n"
   ]
  },
  {
   "cell_type": "code",
   "execution_count": 48,
   "metadata": {},
   "outputs": [
    {
     "data": {
      "image/png": "[encoded data removed]",
      "text/plain": [
       "<Figure size 600x600 with 1 Axes>"
      ]
     },
     "metadata": {},
     "output_type": "display_data"
    },
    {
     "data": {
      "image/png": "[encoded data removed]",
      "text/plain": [
       "<Figure size 600x600 with 1 Axes>"
      ]
     },
     "metadata": {},
     "output_type": "display_data"
    },
    {
     "data": {
      "image/png": "[encoded data removed]",
      "text/plain": [
       "<Figure size 600x600 with 1 Axes>"
      ]
     },
     "metadata": {},
     "output_type": "display_data"
    }
   ],
   "source": [
    "# Function to plot a pie chart\n",
    "def plot_pie_chart(data, title):\n",
    "    plt.figure(figsize=(6, 6))\n",
    "    plt.pie(data, labels=data.index, autopct='%1.1f%%', colors=plt.cm.Paired.colors, startangle=140)\n",
    "    plt.title(title, fontsize=14)\n",
    "    plt.axis('equal') \n",
    "    plt.show()\n",
    "\n",
    "\n",
    "plot_pie_chart(top_title_langs, \"Top 5 Languages in Title Column\")\n",
    "plot_pie_chart(top_subtitle_langs, \"Top 5 Languages in Subtitle Column\")\n",
    "plot_pie_chart(top_productType_langs, \"Top 5 Languages in Product Type Column\")\n"
   ]
  },
  {
   "cell_type": "markdown",
   "metadata": {},
   "source": [
    "## Text Processing"
   ]
  },
  {
   "cell_type": "code",
   "execution_count": null,
   "metadata": {},
   "outputs": [
    {
     "name": "stdout",
     "output_type": "stream",
     "text": [
      "Example where title == subtitle (removing subtitle):\n",
      "                                         title  \\\n",
      "8              - edition seeigel - gackitas ei   \n",
      "7306  1 1261902 - rüschenhemd schwarz gr. 50/m   \n",
      "2069                     1 alter holzschlitten   \n",
      "9211           1 paar schöne manschettenknöpfe   \n",
      "8805      10 franken note 1965 wenig gebraucht   \n",
      "\n",
      "                                      subtitle  \n",
      "8              - edition seeigel - gackitas ei  \n",
      "7306  1 1261902 - rüschenhemd schwarz gr. 50/m  \n",
      "2069                     1 alter holzschlitten  \n",
      "9211           1 paar schöne manschettenknöpfe  \n",
      "8805      10 franken note 1965 wenig gebraucht  \n"
     ]
    }
   ],
   "source": [
    "# Load Spacy Lemmatizers for all supported languages\n",
    "lemmatizers = {\n",
    "    \"en\": English(),\n",
    "    \"de\": German(),\n",
    "    \"it\": Italian(),\n",
    "    \"fr\": French(),\n",
    "    \"sv\": Swedish(),\n",
    "    \"da\": Danish(),\n",
    "    \"ro\": Romanian(),\n",
    "}\n",
    "\n",
    "# Define stopwords for each language\n",
    "stopwords_dict = {\n",
    "    lang: set(stopwords.words(lang)) for lang in [\"english\", \"german\", \"italian\", \"french\", \"swedish\", \"danish\", \"romanian\"]\n",
    "}\n",
    "\n",
    "# Function to clean text safely\n",
    "def clean_text(text, lang):\n",
    "    if not isinstance(text, str) or text.strip() == \"\":\n",
    "        return \"\"\n",
    "\n",
    "    # Remove punctuation and numbers\n",
    "    text = re.sub(r\"[^a-zA-ZäöüßÄÖÜæøåÆØÅăâîșțĂÂÎȘȚ ]\", \"\", text)\n",
    "    words = text.split()\n",
    "\n",
    "    # Remove stopwords if they exist for the language\n",
    "    if lang in stopwords_dict:\n",
    "        filtered_words = [word for word in words if word not in stopwords_dict[lang]]\n",
    "        if len(filtered_words) > 0:  # Keep original if removing stopwords empties it\n",
    "            words = filtered_words\n",
    "\n",
    "    # Apply lemmatization if the language is supported\n",
    "    if lang in lemmatizers:\n",
    "        lemmatized = [token.lemma_ for token in lemmatizers[lang](\" \".join(words))]\n",
    "    else:\n",
    "        lemmatized = words  # Keep original if language not supported\n",
    "\n",
    "    clean_result = \" \".join(lemmatized).strip()\n",
    "    return clean_result if clean_result else text  \n",
    "\n",
    "\n",
    "df[\"subtitle\"] = df[\"subtitle\"].fillna(\"\")\n",
    "\n",
    "# Convert text to lowercase\n",
    "df[\"title\"] = df[\"title\"].str.lower()\n",
    "df[\"subtitle\"] = df[\"subtitle\"].str.lower()\n",
    "\n",
    "# Remove redundant subtitles\n",
    "duplicates = df[df[\"title\"] == df[\"subtitle\"]]\n",
    "if not duplicates.empty:\n",
    "    print(\"Example where title == subtitle (removing subtitle):\")\n",
    "    print(duplicates[[\"title\", \"subtitle\"]].head())\n",
    "\n",
    "df.loc[df[\"title\"] == df[\"subtitle\"], \"subtitle\"] = \"\"\n",
    "\n",
    "\n",
    "df[\"title_clean\"] = df.apply(lambda row: clean_text(row[\"title\"], row[\"title_language\"]), axis=1)\n",
    "df[\"subtitle_clean\"] = df.apply(lambda row: clean_text(row[\"subtitle\"], row[\"subtitle_language\"]), axis=1)\n",
    "\n",
    "\n",
    "# Replace underscores with spaces \n",
    "df[\"productType\"] = df[\"productType\"].str.replace(\"_\", \" \")"
   ]
  },
  {
   "cell_type": "code",
   "execution_count": null,
   "metadata": {},
   "outputs": [],
   "source": [
    "df.to_csv('/home/ubuntu/product_classifier/di-interview-product-classifier/products/cleaned_data.csv',index=False)"
   ]
  },
  {
   "cell_type": "code",
   "execution_count": null,
   "metadata": {},
   "outputs": [
    {
     "data": {
      "text/plain": [
       "Index(['articleId', 'title', 'subtitle', 'productType', 'title_length',\n",
       "       'subtitle_length', 'title_language', 'subtitle_language',\n",
       "       'productType_language', 'title_clean', 'subtitle_clean', 'text'],\n",
       "      dtype='object')"
      ]
     },
     "execution_count": 85,
     "metadata": {},
     "output_type": "execute_result"
    }
   ],
   "source": [
    "df.columns"
   ]
  }
 ],
 "metadata": {
  "kernelspec": {
   "display_name": "product_cl",
   "language": "python",
   "name": "python3"
  },
  "language_info": {
   "codemirror_mode": {
    "name": "ipython",
    "version": 3
   },
   "file_extension": ".py",
   "mimetype": "text/x-python",
   "name": "python",
   "nbconvert_exporter": "python",
   "pygments_lexer": "ipython3",
   "version": "3.9.21"
  },
  "pycharm": {
   "stem_cell": {
    "cell_type": "raw",
    "metadata": {
     "collapsed": false
    },
    "source": []
   }
  }
 },
 "nbformat": 4,
 "nbformat_minor": 1
}
